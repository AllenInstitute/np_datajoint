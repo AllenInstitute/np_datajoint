{
 "cells": [
  {
   "cell_type": "code",
   "execution_count": 7,
   "metadata": {},
   "outputs": [
    {
     "name": "stdout",
     "output_type": "stream",
     "text": [
      "\n",
      "=== AUTHENTICATION ===\n"
     ]
    },
    {
     "ename": "IndexError",
     "evalue": "list index out of range",
     "output_type": "error",
     "traceback": [
      "\u001b[1;31m---------------------------------------------------------------------------\u001b[0m",
      "\u001b[1;31mIndexError\u001b[0m                                Traceback (most recent call last)",
      "Cell \u001b[1;32mIn[7], line 3\u001b[0m\n\u001b[0;32m      1\u001b[0m \u001b[38;5;28;01mimport\u001b[39;00m \u001b[38;5;21;01mpathlib\u001b[39;00m\n\u001b[1;32m----> 3\u001b[0m \u001b[38;5;28;01mfrom\u001b[39;00m \u001b[38;5;21;01mnp_datajoint\u001b[39;00m \u001b[38;5;28;01mimport\u001b[39;00m DRPilot\n\u001b[0;32m      5\u001b[0m DATA2 \u001b[38;5;241m=\u001b[39m pathlib\u001b[38;5;241m.\u001b[39mPath(\u001b[38;5;124m\"\u001b[39m\u001b[38;5;124m//10.128.50.140/Data2\u001b[39m\u001b[38;5;124m\"\u001b[39m)\n",
      "File \u001b[1;32mc:\\Users\\ben.hardcastle\\github\\np_datajoint\\np_datajoint\\__init__.py:1\u001b[0m\n\u001b[1;32m----> 1\u001b[0m \u001b[39mfrom\u001b[39;00m \u001b[39mnp_datajoint\u001b[39;00m\u001b[39m.\u001b[39;00m\u001b[39mclasses\u001b[39;00m \u001b[39mimport\u001b[39;00m \u001b[39m*\u001b[39m\n\u001b[0;32m      2\u001b[0m \u001b[39mfrom\u001b[39;00m \u001b[39mnp_datajoint\u001b[39;00m\u001b[39m.\u001b[39;00m\u001b[39mconfig\u001b[39;00m \u001b[39mimport\u001b[39;00m \u001b[39m*\u001b[39m\n\u001b[0;32m      3\u001b[0m \u001b[39mfrom\u001b[39;00m \u001b[39mnp_datajoint\u001b[39;00m\u001b[39m.\u001b[39;00m\u001b[39mutils\u001b[39;00m \u001b[39mimport\u001b[39;00m \u001b[39m*\u001b[39m\n",
      "File \u001b[1;32mc:\\Users\\ben.hardcastle\\github\\np_datajoint\\np_datajoint\\classes.py:39\u001b[0m\n\u001b[0;32m     36\u001b[0m \u001b[39mimport\u001b[39;00m \u001b[39mrequests\u001b[39;00m\n\u001b[0;32m     37\u001b[0m \u001b[39mimport\u001b[39;00m \u001b[39mseaborn\u001b[39;00m \u001b[39mas\u001b[39;00m \u001b[39msns\u001b[39;00m\n\u001b[1;32m---> 39\u001b[0m \u001b[39mfrom\u001b[39;00m \u001b[39mnp_datajoint\u001b[39;00m \u001b[39mimport\u001b[39;00m config, utils\n\u001b[0;32m     41\u001b[0m logger \u001b[39m=\u001b[39m np_logging\u001b[39m.\u001b[39mgetLogger(\u001b[39m__name__\u001b[39m)\n\u001b[0;32m     44\u001b[0m \u001b[39mclass\u001b[39;00m \u001b[39mSessionDirNotFoundError\u001b[39;00m(\u001b[39mValueError\u001b[39;00m):\n",
      "File \u001b[1;32mc:\\Users\\ben.hardcastle\\github\\np_datajoint\\np_datajoint\\config.py:54\u001b[0m\n\u001b[0;32m     49\u001b[0m \u001b[39m# configure datajoint session\u001b[39;00m\n\u001b[0;32m     50\u001b[0m dj\u001b[39m.\u001b[39mconfig\u001b[39m.\u001b[39mupdate(\n\u001b[0;32m     51\u001b[0m     zk_config[\u001b[39m\"\u001b[39m\u001b[39mdatajoint\u001b[39m\u001b[39m\"\u001b[39m]\n\u001b[0;32m     52\u001b[0m )  \u001b[39m# dj.config is a custom class behaving as a dict - don't directly assign a dict\u001b[39;00m\n\u001b[1;32m---> 54\u001b[0m S3_SESSION \u001b[39m=\u001b[39m dj_auth\u001b[39m.\u001b[39;49mSession(\n\u001b[0;32m     55\u001b[0m     aws_account_id\u001b[39m=\u001b[39;49mzk_config[\u001b[39m\"\u001b[39;49m\u001b[39mdjsciops\u001b[39;49m\u001b[39m\"\u001b[39;49m][\u001b[39m\"\u001b[39;49m\u001b[39maws\u001b[39;49m\u001b[39m\"\u001b[39;49m][\u001b[39m\"\u001b[39;49m\u001b[39maccount_id\u001b[39;49m\u001b[39m\"\u001b[39;49m],\n\u001b[0;32m     56\u001b[0m     s3_role\u001b[39m=\u001b[39;49mzk_config[\u001b[39m\"\u001b[39;49m\u001b[39mdjsciops\u001b[39;49m\u001b[39m\"\u001b[39;49m][\u001b[39m\"\u001b[39;49m\u001b[39ms3\u001b[39;49m\u001b[39m\"\u001b[39;49m][\u001b[39m\"\u001b[39;49m\u001b[39mrole\u001b[39;49m\u001b[39m\"\u001b[39;49m],\n\u001b[0;32m     57\u001b[0m     auth_client_id\u001b[39m=\u001b[39;49mzk_config[\u001b[39m\"\u001b[39;49m\u001b[39mdjsciops\u001b[39;49m\u001b[39m\"\u001b[39;49m][\u001b[39m\"\u001b[39;49m\u001b[39mdjauth\u001b[39;49m\u001b[39m\"\u001b[39;49m][\u001b[39m\"\u001b[39;49m\u001b[39mclient_id\u001b[39;49m\u001b[39m\"\u001b[39;49m],\n\u001b[0;32m     58\u001b[0m     bearer_token\u001b[39m=\u001b[39;49mzk_config[\u001b[39m\"\u001b[39;49m\u001b[39mdjsciops\u001b[39;49m\u001b[39m\"\u001b[39;49m][\u001b[39m\"\u001b[39;49m\u001b[39mdjauth\u001b[39;49m\u001b[39m\"\u001b[39;49m][\u001b[39m\"\u001b[39;49m\u001b[39mclient_secret\u001b[39;49m\u001b[39m\"\u001b[39;49m],\n\u001b[0;32m     59\u001b[0m )\n\u001b[0;32m     60\u001b[0m S3_BUCKET: \u001b[39mstr\u001b[39m \u001b[39m=\u001b[39m zk_config[\u001b[39m\"\u001b[39m\u001b[39mdjsciops\u001b[39m\u001b[39m\"\u001b[39m][\u001b[39m\"\u001b[39m\u001b[39ms3\u001b[39m\u001b[39m\"\u001b[39m][\u001b[39m\"\u001b[39m\u001b[39mbucket\u001b[39m\u001b[39m\"\u001b[39m]\n\u001b[0;32m     62\u001b[0m DJ_INBOX: \u001b[39mstr\u001b[39m \u001b[39m=\u001b[39m zk_config[\u001b[39m\"\u001b[39m\u001b[39msorting\u001b[39m\u001b[39m\"\u001b[39m][\n\u001b[0;32m     63\u001b[0m     \u001b[39m\"\u001b[39m\u001b[39mremote_inbox\u001b[39m\u001b[39m\"\u001b[39m\n\u001b[0;32m     64\u001b[0m ]  \u001b[39m# f\"mindscope_dynamic-routing/inbox\"\u001b[39;00m\n",
      "File \u001b[1;32mc:\\Users\\ben.hardcastle\\github\\np_datajoint\\.venv\\Lib\\site-packages\\djsciops\\authentication.py:183\u001b[0m, in \u001b[0;36mSession.__init__\u001b[1;34m(self, aws_account_id, s3_role, auth_client_id, bearer_token)\u001b[0m\n\u001b[0;32m    180\u001b[0m     \u001b[39mself\u001b[39m\u001b[39m.\u001b[39mbearer_token, \u001b[39mself\u001b[39m\u001b[39m.\u001b[39muser \u001b[39m=\u001b[39m _oidc_login(auth_client_id\u001b[39m=\u001b[39mauth_client_id)\n\u001b[0;32m    181\u001b[0m \u001b[39melse\u001b[39;00m:\n\u001b[0;32m    182\u001b[0m     jwt_data \u001b[39m=\u001b[39m json\u001b[39m.\u001b[39mloads(\n\u001b[1;32m--> 183\u001b[0m         base64\u001b[39m.\u001b[39mb64decode(bearer_token\u001b[39m.\u001b[39;49msplit(\u001b[39m\"\u001b[39;49m\u001b[39m.\u001b[39;49m\u001b[39m\"\u001b[39;49m)[\u001b[39m1\u001b[39;49m]\u001b[39m.\u001b[39mencode())\u001b[39m.\u001b[39mdecode()\n\u001b[0;32m    184\u001b[0m     )\n\u001b[0;32m    185\u001b[0m     time_to_live \u001b[39m=\u001b[39m (jwt_data[\u001b[39m\"\u001b[39m\u001b[39mexp\u001b[39m\u001b[39m\"\u001b[39m] \u001b[39m-\u001b[39m datetime\u001b[39m.\u001b[39mutcnow()\u001b[39m.\u001b[39mtimestamp()) \u001b[39m/\u001b[39m \u001b[39m60\u001b[39m \u001b[39m/\u001b[39m \u001b[39m60\u001b[39m\n\u001b[0;32m    186\u001b[0m     djsciops_utils\u001b[39m.\u001b[39mlog(\n\u001b[0;32m    187\u001b[0m         \u001b[39mf\u001b[39m\u001b[39m\"\u001b[39m\u001b[39mReusing provided bearer token with a life of \u001b[39m\u001b[39m{\u001b[39;00mtime_to_live\u001b[39m}\u001b[39;00m\u001b[39m [HR]\u001b[39m\u001b[39m\"\u001b[39m,\n\u001b[0;32m    188\u001b[0m         pause_duration\u001b[39m=\u001b[39m\u001b[39m1\u001b[39m,\n\u001b[0;32m    189\u001b[0m     )\n",
      "\u001b[1;31mIndexError\u001b[0m: list index out of range"
     ]
    }
   ],
   "source": [
    "import pathlib\n",
    "\n",
    "from np_datajoint import DRPilot\n",
    "\n",
    "DATA2 = pathlib.Path(\"//10.128.50.140/Data2\")"
   ]
  },
  {
   "cell_type": "code",
   "execution_count": null,
   "metadata": {},
   "outputs": [],
   "source": []
  }
 ],
 "metadata": {
  "kernelspec": {
   "display_name": "Python 3.10.8",
   "language": "python",
   "name": "python3"
  },
  "language_info": {
   "codemirror_mode": {
    "name": "ipython",
    "version": 3
   },
   "file_extension": ".py",
   "mimetype": "text/x-python",
   "name": "python",
   "nbconvert_exporter": "python",
   "pygments_lexer": "ipython3",
   "version": "3.10.8"
  },
  "orig_nbformat": 4,
  "vscode": {
   "interpreter": {
    "hash": "1e55418bf9cf102c0cb10d37567f7bf547caf30037ca7b186ae2cffeff9bd7ba"
   }
  }
 },
 "nbformat": 4,
 "nbformat_minor": 2
}
